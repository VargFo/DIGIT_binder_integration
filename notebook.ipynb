{
 "cells": [
  {
   "cell_type": "markdown",
   "id": "4bb5067d",
   "metadata": {},
   "source": [
    "# NOTEBOOK !\n",
    "\n",
    "### Notebook...\n",
    "\n",
    "notebook"
   ]
  },
  {
   "cell_type": "code",
   "execution_count": null,
   "id": "cbfa00ce",
   "metadata": {
    "vscode": {
     "languageId": "plaintext"
    }
   },
   "outputs": [],
   "source": [
    "print(\"hello\")"
   ]
  }
 ],
 "metadata": {
  "language_info": {
   "name": "python"
  }
 },
 "nbformat": 4,
 "nbformat_minor": 5
}
